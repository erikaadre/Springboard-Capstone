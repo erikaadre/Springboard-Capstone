{
 "cells": [
  {
   "cell_type": "code",
   "execution_count": 3,
   "metadata": {},
   "outputs": [],
   "source": [
    "import pandas as pd\n",
    "import requests\n",
    "import numpy as np\n",
    "import os"
   ]
  },
  {
   "cell_type": "code",
   "execution_count": 22,
   "metadata": {},
   "outputs": [],
   "source": [
    "address = pd.read_csv('../data/address.csv')"
   ]
  },
  {
   "cell_type": "code",
   "execution_count": 24,
   "metadata": {},
   "outputs": [
    {
     "data": {
      "text/html": [
       "<div>\n",
       "<style scoped>\n",
       "    .dataframe tbody tr th:only-of-type {\n",
       "        vertical-align: middle;\n",
       "    }\n",
       "\n",
       "    .dataframe tbody tr th {\n",
       "        vertical-align: top;\n",
       "    }\n",
       "\n",
       "    .dataframe thead th {\n",
       "        text-align: right;\n",
       "    }\n",
       "</style>\n",
       "<table border=\"1\" class=\"dataframe\">\n",
       "  <thead>\n",
       "    <tr style=\"text-align: right;\">\n",
       "      <th></th>\n",
       "      <th>facility_address</th>\n",
       "      <th>facility_city</th>\n",
       "      <th>facility_state</th>\n",
       "      <th>facility_zip</th>\n",
       "      <th>concat_address</th>\n",
       "    </tr>\n",
       "  </thead>\n",
       "  <tbody>\n",
       "    <tr>\n",
       "      <th>0</th>\n",
       "      <td>24301 CRENSHAW BLVD</td>\n",
       "      <td>TORRANCE</td>\n",
       "      <td>CA</td>\n",
       "      <td>90505</td>\n",
       "      <td>24301 CRENSHAW BLVD, TORRANCE, CA 90505</td>\n",
       "    </tr>\n",
       "    <tr>\n",
       "      <th>1</th>\n",
       "      <td>15553 E VALLEY BLVD</td>\n",
       "      <td>LA PUENTE</td>\n",
       "      <td>CA</td>\n",
       "      <td>91744</td>\n",
       "      <td>15553 E VALLEY BLVD, LA PUENTE, CA 91744</td>\n",
       "    </tr>\n",
       "    <tr>\n",
       "      <th>2</th>\n",
       "      <td>18912 E GALE AVE STE #A</td>\n",
       "      <td>ROWLAND HEIGHTS</td>\n",
       "      <td>CA</td>\n",
       "      <td>91748</td>\n",
       "      <td>18912 E GALE AVE STE #A, ROWLAND HEIGHTS, CA 9...</td>\n",
       "    </tr>\n",
       "    <tr>\n",
       "      <th>3</th>\n",
       "      <td>3614 MLK JR BLVD</td>\n",
       "      <td>LYNWOOD</td>\n",
       "      <td>CA</td>\n",
       "      <td>90262</td>\n",
       "      <td>3614 MLK JR BLVD, LYNWOOD, CA 90262</td>\n",
       "    </tr>\n",
       "    <tr>\n",
       "      <th>4</th>\n",
       "      <td>17198 S NORWALK BLVD</td>\n",
       "      <td>CERRITOS</td>\n",
       "      <td>CA</td>\n",
       "      <td>90703</td>\n",
       "      <td>17198 S NORWALK BLVD, CERRITOS, CA 90703</td>\n",
       "    </tr>\n",
       "  </tbody>\n",
       "</table>\n",
       "</div>"
      ],
      "text/plain": [
       "          facility_address    facility_city facility_state  facility_zip  \\\n",
       "0      24301 CRENSHAW BLVD         TORRANCE             CA         90505   \n",
       "1      15553 E VALLEY BLVD        LA PUENTE             CA         91744   \n",
       "2  18912 E GALE AVE STE #A  ROWLAND HEIGHTS             CA         91748   \n",
       "3         3614 MLK JR BLVD          LYNWOOD             CA         90262   \n",
       "4     17198 S NORWALK BLVD         CERRITOS             CA         90703   \n",
       "\n",
       "                                      concat_address  \n",
       "0            24301 CRENSHAW BLVD, TORRANCE, CA 90505  \n",
       "1           15553 E VALLEY BLVD, LA PUENTE, CA 91744  \n",
       "2  18912 E GALE AVE STE #A, ROWLAND HEIGHTS, CA 9...  \n",
       "3                3614 MLK JR BLVD, LYNWOOD, CA 90262  \n",
       "4           17198 S NORWALK BLVD, CERRITOS, CA 90703  "
      ]
     },
     "execution_count": 24,
     "metadata": {},
     "output_type": "execute_result"
    }
   ],
   "source": [
    "address.head()"
   ]
  },
  {
   "cell_type": "code",
   "execution_count": null,
   "metadata": {},
   "outputs": [],
   "source": [
    "# Output File Name\n",
    "output_filename = '../data/yelp_data.csv'\n",
    "\n",
    "api_key = ''\n",
    "headers = {'Authorization': 'Bearer %s' % api_key}\n",
    "\n",
    "loc_input = address['concat_address']"
   ]
  },
  {
   "cell_type": "code",
   "execution_count": null,
   "metadata": {},
   "outputs": [],
   "source": [
    "def get_yelp_results(address, return_full_response = False):\n",
    "    '''\n",
    "    Gets rating, price, number of reviews, restaurant category/cuisine, latitude and longitude.\n",
    "    \n",
    "    address = string input\n",
    "    return_full_response = boolean asking if we want to return the full json file\n",
    "    \n",
    "    '''\n",
    "    \n",
    "    yelp_url = GET https://api.yelp.com/v3/businesses/search\n",
    "        \n",
    "    r = requests.get(yelp_url)\n",
    "    json_data = r.json()\n",
    "    \n",
    "    output = requests.get(yelp_url, params = address, header = headers)"
   ]
  },
  {
   "cell_type": "code",
   "execution_count": null,
   "metadata": {},
   "outputs": [],
   "source": []
  },
  {
   "cell_type": "code",
   "execution_count": null,
   "metadata": {},
   "outputs": [],
   "source": []
  }
 ],
 "metadata": {
  "kernelspec": {
   "display_name": "Python 3",
   "language": "python",
   "name": "python3"
  },
  "language_info": {
   "codemirror_mode": {
    "name": "ipython",
    "version": 3
   },
   "file_extension": ".py",
   "mimetype": "text/x-python",
   "name": "python",
   "nbconvert_exporter": "python",
   "pygments_lexer": "ipython3",
   "version": "3.8.3"
  }
 },
 "nbformat": 4,
 "nbformat_minor": 4
}
