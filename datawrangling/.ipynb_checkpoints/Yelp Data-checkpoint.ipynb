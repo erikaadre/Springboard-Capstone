{
 "cells": [
  {
   "cell_type": "code",
   "execution_count": 2,
   "metadata": {},
   "outputs": [],
   "source": [
    "import pandas as pd\n",
    "import requests\n",
    "import numpy as np\n",
    "import os"
   ]
  },
  {
   "cell_type": "code",
   "execution_count": 95,
   "metadata": {},
   "outputs": [],
   "source": [
    "address = pd.read_csv('../data/name_address.csv')\n",
    "concat_address = address.loc[:,'facility_address'] +', ' + address.loc[:,'facility_city'] +', '+ 'CA' +' '+address.loc[:,'facility_zip'].astype(str) \n",
    "address = pd.concat([address, concat_address.rename('concat_address')], axis = 1)"
   ]
  },
  {
   "cell_type": "code",
   "execution_count": 174,
   "metadata": {},
   "outputs": [
    {
     "data": {
      "text/html": [
       "<div>\n",
       "<style scoped>\n",
       "    .dataframe tbody tr th:only-of-type {\n",
       "        vertical-align: middle;\n",
       "    }\n",
       "\n",
       "    .dataframe tbody tr th {\n",
       "        vertical-align: top;\n",
       "    }\n",
       "\n",
       "    .dataframe thead th {\n",
       "        text-align: right;\n",
       "    }\n",
       "</style>\n",
       "<table border=\"1\" class=\"dataframe\">\n",
       "  <thead>\n",
       "    <tr style=\"text-align: right;\">\n",
       "      <th></th>\n",
       "      <th>facility_name</th>\n",
       "      <th>program_name</th>\n",
       "      <th>facility_address</th>\n",
       "      <th>facility_city</th>\n",
       "      <th>facility_zip</th>\n",
       "      <th>concat_address</th>\n",
       "    </tr>\n",
       "  </thead>\n",
       "  <tbody>\n",
       "    <tr>\n",
       "      <th>0</th>\n",
       "      <td>GEN KOREAN BBQ</td>\n",
       "      <td>GEN KOREAN BBQ</td>\n",
       "      <td>24301 CRENSHAW BLVD</td>\n",
       "      <td>TORRANCE</td>\n",
       "      <td>90505</td>\n",
       "      <td>24301 CRENSHAW BLVD, TORRANCE, CA 90505</td>\n",
       "    </tr>\n",
       "    <tr>\n",
       "      <th>1</th>\n",
       "      <td>DENNY'S</td>\n",
       "      <td>DENNY'S</td>\n",
       "      <td>15553 E VALLEY BLVD</td>\n",
       "      <td>LA PUENTE</td>\n",
       "      <td>91744</td>\n",
       "      <td>15553 E VALLEY BLVD, LA PUENTE, CA 91744</td>\n",
       "    </tr>\n",
       "    <tr>\n",
       "      <th>2</th>\n",
       "      <td>TEA LAB</td>\n",
       "      <td>TEA LAB</td>\n",
       "      <td>18912 E GALE AVE STE #A</td>\n",
       "      <td>ROWLAND HEIGHTS</td>\n",
       "      <td>91748</td>\n",
       "      <td>18912 E GALE AVE STE #A, ROWLAND HEIGHTS, CA 9...</td>\n",
       "    </tr>\n",
       "    <tr>\n",
       "      <th>3</th>\n",
       "      <td>EL BOTANITAS</td>\n",
       "      <td>EL BOTANITAS</td>\n",
       "      <td>3614 MLK JR BLVD</td>\n",
       "      <td>LYNWOOD</td>\n",
       "      <td>90262</td>\n",
       "      <td>3614 MLK JR BLVD, LYNWOOD, CA 90262</td>\n",
       "    </tr>\n",
       "    <tr>\n",
       "      <th>4</th>\n",
       "      <td>POLLY'S PIES</td>\n",
       "      <td>POLLY'S PIES</td>\n",
       "      <td>17198 S NORWALK BLVD</td>\n",
       "      <td>CERRITOS</td>\n",
       "      <td>90703</td>\n",
       "      <td>17198 S NORWALK BLVD, CERRITOS, CA 90703</td>\n",
       "    </tr>\n",
       "  </tbody>\n",
       "</table>\n",
       "</div>"
      ],
      "text/plain": [
       "    facility_name    program_name         facility_address    facility_city  \\\n",
       "0  GEN KOREAN BBQ  GEN KOREAN BBQ      24301 CRENSHAW BLVD         TORRANCE   \n",
       "1         DENNY'S         DENNY'S      15553 E VALLEY BLVD        LA PUENTE   \n",
       "2         TEA LAB         TEA LAB  18912 E GALE AVE STE #A  ROWLAND HEIGHTS   \n",
       "3    EL BOTANITAS    EL BOTANITAS         3614 MLK JR BLVD          LYNWOOD   \n",
       "4    POLLY'S PIES    POLLY'S PIES     17198 S NORWALK BLVD         CERRITOS   \n",
       "\n",
       "   facility_zip                                     concat_address  \n",
       "0         90505            24301 CRENSHAW BLVD, TORRANCE, CA 90505  \n",
       "1         91744           15553 E VALLEY BLVD, LA PUENTE, CA 91744  \n",
       "2         91748  18912 E GALE AVE STE #A, ROWLAND HEIGHTS, CA 9...  \n",
       "3         90262                3614 MLK JR BLVD, LYNWOOD, CA 90262  \n",
       "4         90703           17198 S NORWALK BLVD, CERRITOS, CA 90703  "
      ]
     },
     "execution_count": 174,
     "metadata": {},
     "output_type": "execute_result"
    }
   ],
   "source": [
    "address.head()"
   ]
  },
  {
   "cell_type": "code",
   "execution_count": 141,
   "metadata": {},
   "outputs": [],
   "source": [
    "# API AND HEADER CODE\n",
    "api_key = ''\n",
    "headers = {'Authorization': 'Bearer %s' % api_key}\n"
   ]
  },
  {
   "cell_type": "code",
   "execution_count": 214,
   "metadata": {},
   "outputs": [],
   "source": [
    "# Function to extract Yelp ID from Yelp Business Match and insert into Yelp Business Details API\n",
    "\n",
    "def get_business_details(name, address_1, city, state, country):\n",
    "    ''' \n",
    "    Obtains ratings, review count, latitude/longitude, price, and restaurant categories \n",
    "    from Yelp Business Details Endpoint using the Yelp Business ID obtained from \n",
    "    Yelp Business Matches Endpoint\n",
    "    \n",
    "    name: name of business - string input\n",
    "    address_1: Street Address e.g. 2436 Columbine Circle - string input\n",
    "    city: city in abbreviated form e.g. CA - string input\n",
    "    country: country - string input\n",
    "    \n",
    "    Yelp Only Allows for 5000 requests per day. This code calls upon the YELP API twice.\n",
    "    '''\n",
    "    \n",
    "    # Get Yelp ID from Business Matches Endpoint\n",
    "    url_bm = 'https://api.yelp.com/v3/businesses/matches'\n",
    "    \n",
    "    # Parameters for Business Match in Dictionary Format\n",
    "    parameters_bm = {\\\n",
    "                 'name': name,\\\n",
    "                 'address1' : address_1,\\\n",
    "                 'city': city,\\\n",
    "                 'state': state,\\\n",
    "                 'country': country\n",
    "             }\n",
    "    \n",
    "    # Call on Yelp Business Match API\n",
    "    r_bm = requests.get(url = url_bm, params = parameters_bm, headers = headers)\n",
    "    json_data_bm = r_bm.json()\n",
    "    \n",
    "    # Extract Yelp ID. \n",
    "    \n",
    "    if (json_data_bm.get('businesses')==[]) == True:\n",
    "        yelp_id = None\n",
    "    else:\n",
    "        yelp_id = json_data_bm.get('businesses')[0].get('id')\n",
    "\n",
    "    \n",
    "    # Call on Yelp Business Details API to get necessary info\n",
    "    url_bd = 'https://api.yelp.com/v3/businesses/{}'.format(yelp_id)\n",
    "    \n",
    "    \n",
    "    # Yelp ID was not obtained, output would display None. If it has a yelp ID, fetch data from Yelp API\n",
    "    if yelp_id == None:\n",
    "        output = {\n",
    "            'name': None,\n",
    "            'address': None,\n",
    "            'review_count': None,\n",
    "            'rating' : None,\n",
    "            'price': None,\n",
    "            'categories': None,\n",
    "            'latitude': None,\n",
    "            'longitude': None,\n",
    "            'yelp_id': None,\n",
    "            'hours': None\n",
    "    \n",
    "}\n",
    "    else:\n",
    "        # Request info from Yelp Business Details Endpoint\n",
    "        r_bd = requests.get(url = url_bd, headers = headers)\n",
    "        json_data_bd = r_bd.json()\n",
    "        \n",
    "        answer = json_data_bd\n",
    "        categories = [sub['title'] for sub in answer.get('categories')]\n",
    "        output = {\n",
    "            'name': answer.get('name'),\n",
    "            'address': ', '.join([str(elem)for elem in answer.get('location').get('display_address')]),\n",
    "            'review_count': answer.get('review_count'),\n",
    "            'rating' : answer.get('rating'),\n",
    "            'price': answer.get('price'),\n",
    "            'categories': ', '.join([str(elem) for elem in [sub['title'] for sub in answer.get('categories')]]),\n",
    "            'latitude': answer.get('coordinates').get('latitude'),\n",
    "            'longitude': answer.get('coordinates').get('longitude'),\n",
    "            'yelp_id': answer.get('id'),\n",
    "            'hours': answer.get('hours')[0].get('hours_type')\n",
    "    \n",
    "}\n",
    "    output['name_input'] = name\n",
    "    output['address_input'] = address_1\n",
    "    output['city_input'] = city\n",
    "    \n",
    "    return output"
   ]
  },
  {
   "cell_type": "code",
   "execution_count": 201,
   "metadata": {},
   "outputs": [
    {
     "data": {
      "text/plain": [
       "{'name': None,\n",
       " 'address': None,\n",
       " 'review_count': None,\n",
       " 'rating': None,\n",
       " 'price': None,\n",
       " 'categories': None,\n",
       " 'latitude': None,\n",
       " 'longitude': None,\n",
       " 'yelp_id': None,\n",
       " 'hours': None,\n",
       " 'name_input': 'TEA LAB',\n",
       " 'address_input': '15553 E VALLEY BLVD',\n",
       " 'city_input': 'LA PUENTE'}"
      ]
     },
     "execution_count": 201,
     "metadata": {},
     "output_type": "execute_result"
    }
   ],
   "source": [
    "# Testing if code works\n",
    "get_business_details(address.iloc[2,1], address.iloc[1,2], address.iloc[1,3], 'CA', 'US')"
   ]
  },
  {
   "cell_type": "code",
   "execution_count": 215,
   "metadata": {
    "scrolled": true
   },
   "outputs": [
    {
     "ename": "TypeError",
     "evalue": "'NoneType' object is not subscriptable",
     "output_type": "error",
     "traceback": [
      "\u001b[1;31m---------------------------------------------------------------------------\u001b[0m",
      "\u001b[1;31mTypeError\u001b[0m                                 Traceback (most recent call last)",
      "\u001b[1;32m<ipython-input-215-3b92f47522f0>\u001b[0m in \u001b[0;36m<module>\u001b[1;34m\u001b[0m\n\u001b[0;32m     14\u001b[0m \u001b[1;33m\u001b[0m\u001b[0m\n\u001b[0;32m     15\u001b[0m \u001b[1;32mfor\u001b[0m \u001b[0mname\u001b[0m\u001b[1;33m,\u001b[0m \u001b[0maddress_1\u001b[0m\u001b[1;33m,\u001b[0m \u001b[0mcity\u001b[0m \u001b[1;32min\u001b[0m \u001b[0mzip\u001b[0m\u001b[1;33m(\u001b[0m\u001b[0mres_name\u001b[0m\u001b[1;33m,\u001b[0m \u001b[0mres_address\u001b[0m\u001b[1;33m,\u001b[0m \u001b[0mres_city\u001b[0m\u001b[1;33m)\u001b[0m\u001b[1;33m:\u001b[0m\u001b[1;33m\u001b[0m\u001b[1;33m\u001b[0m\u001b[0m\n\u001b[1;32m---> 16\u001b[1;33m     \u001b[0mbd_results\u001b[0m \u001b[1;33m=\u001b[0m \u001b[0mget_business_details\u001b[0m\u001b[1;33m(\u001b[0m\u001b[0mname\u001b[0m\u001b[1;33m,\u001b[0m \u001b[0maddress_1\u001b[0m\u001b[1;33m,\u001b[0m \u001b[0mcity\u001b[0m\u001b[1;33m,\u001b[0m \u001b[1;34m'CA'\u001b[0m\u001b[1;33m,\u001b[0m \u001b[1;34m'USA'\u001b[0m\u001b[1;33m)\u001b[0m\u001b[1;33m\u001b[0m\u001b[1;33m\u001b[0m\u001b[0m\n\u001b[0m\u001b[0;32m     17\u001b[0m     \u001b[0mresults\u001b[0m\u001b[1;33m.\u001b[0m\u001b[0mappend\u001b[0m\u001b[1;33m(\u001b[0m\u001b[0mbd_results\u001b[0m\u001b[1;33m)\u001b[0m\u001b[1;33m\u001b[0m\u001b[1;33m\u001b[0m\u001b[0m\n\u001b[0;32m     18\u001b[0m \u001b[1;33m\u001b[0m\u001b[0m\n",
      "\u001b[1;32m<ipython-input-214-fe67aad4aed4>\u001b[0m in \u001b[0;36mget_business_details\u001b[1;34m(name, address_1, city, state, country)\u001b[0m\n\u001b[0;32m     36\u001b[0m         \u001b[0myelp_id\u001b[0m \u001b[1;33m=\u001b[0m \u001b[1;32mNone\u001b[0m\u001b[1;33m\u001b[0m\u001b[1;33m\u001b[0m\u001b[0m\n\u001b[0;32m     37\u001b[0m     \u001b[1;32melse\u001b[0m\u001b[1;33m:\u001b[0m\u001b[1;33m\u001b[0m\u001b[1;33m\u001b[0m\u001b[0m\n\u001b[1;32m---> 38\u001b[1;33m         \u001b[0myelp_id\u001b[0m \u001b[1;33m=\u001b[0m \u001b[0mjson_data_bm\u001b[0m\u001b[1;33m.\u001b[0m\u001b[0mget\u001b[0m\u001b[1;33m(\u001b[0m\u001b[1;34m'businesses'\u001b[0m\u001b[1;33m)\u001b[0m\u001b[1;33m[\u001b[0m\u001b[1;36m0\u001b[0m\u001b[1;33m]\u001b[0m\u001b[1;33m.\u001b[0m\u001b[0mget\u001b[0m\u001b[1;33m(\u001b[0m\u001b[1;34m'id'\u001b[0m\u001b[1;33m)\u001b[0m\u001b[1;33m\u001b[0m\u001b[1;33m\u001b[0m\u001b[0m\n\u001b[0m\u001b[0;32m     39\u001b[0m \u001b[1;33m\u001b[0m\u001b[0m\n\u001b[0;32m     40\u001b[0m \u001b[1;33m\u001b[0m\u001b[0m\n",
      "\u001b[1;31mTypeError\u001b[0m: 'NoneType' object is not subscriptable"
     ]
    }
   ],
   "source": [
    "# Create For Loop To Iterate Over \n",
    "\n",
    "# Create a list out of the columns of interest\n",
    "# Since there is a daily limit of 5000 calls per day will. Need to slice the list in appropriate increments\n",
    "\n",
    "res_name = (address['program_name']).tolist()[0:1]\n",
    "res_address = (address['facility_address']).tolist()[0:1]\n",
    "res_city = (address['facility_city'].tolist())[0:1]\n",
    "\n",
    "# Output File Name\n",
    "output_filename = '../data/yelp_data_test.csv'\n",
    "\n",
    "results = []\n",
    "\n",
    "for name, address_1, city in zip(res_name, res_address, res_city):\n",
    "    bd_results = get_business_details(name, address_1, city, 'CA', 'USA')\n",
    "    results.append(bd_results)\n",
    "    \n",
    "    if len(results) % 500 == 0:\n",
    "        pd.DataFrame(results).to_csv(\"{}_bak\".format(output_filename))\n",
    "        \n",
    "# Convert list result to dataframe\n",
    "pd.DataFrame(results).to_csv(output_filename, encoding = 'utf8')\n"
   ]
  },
  {
   "cell_type": "code",
   "execution_count": null,
   "metadata": {},
   "outputs": [],
   "source": [
    "## Ignore Beyond This Point!"
   ]
  },
  {
   "cell_type": "code",
   "execution_count": null,
   "metadata": {},
   "outputs": [],
   "source": []
  },
  {
   "cell_type": "code",
   "execution_count": null,
   "metadata": {},
   "outputs": [],
   "source": []
  },
  {
   "cell_type": "code",
   "execution_count": 187,
   "metadata": {},
   "outputs": [
    {
     "data": {
      "text/plain": [
       "['GEN KOREAN BBQ',\n",
       " \"DENNY'S\",\n",
       " 'TEA LAB',\n",
       " 'EL BOTANITAS',\n",
       " \"POLLY'S PIES\",\n",
       " 'CHINATOWN EXPRESS',\n",
       " 'MOUN OF TUNIS',\n",
       " 'CASTAWAY',\n",
       " 'BLU TUSK',\n",
       " 'STARBUCKS']"
      ]
     },
     "execution_count": 187,
     "metadata": {},
     "output_type": "execute_result"
    }
   ],
   "source": [
    "res_name = (address['program_name']).tolist()\n",
    "res_address = (address['facility_address']).tolist()\n",
    "res_city = (address['facility_city'].tolist())\n",
    "res_name[0:10]"
   ]
  },
  {
   "cell_type": "code",
   "execution_count": 204,
   "metadata": {},
   "outputs": [],
   "source": [
    "# Business Match Parameters to get Yelp ID \n",
    "url_bm = 'https://api.yelp.com/v3/businesses/matches'\n",
    "\n",
    "parameters_bm = {\\\n",
    "                 'name': address.iloc[1,1],\\\n",
    "                 'address1' : address.iloc[1,2],\\\n",
    "                 'city': address.iloc[1,3],\\\n",
    "                 'state': 'CA',\\\n",
    "                 'country': 'US'\n",
    "             }"
   ]
  },
  {
   "cell_type": "code",
   "execution_count": 205,
   "metadata": {},
   "outputs": [],
   "source": [
    "# Use Requests.get and convert to JSON from Yelp Business Match Endpoint\n",
    "r_bm = requests.get(url = url_bm, params = parameters_bm, headers = headers)\n",
    "json_data_bm = r_bm.json()"
   ]
  },
  {
   "cell_type": "code",
   "execution_count": 220,
   "metadata": {},
   "outputs": [
    {
     "data": {
      "text/plain": [
       "{'businesses': [{'id': 'U8Gfec-186rQ93-3jbLdCQ',\n",
       "   'alias': 'dennys-la-puente',\n",
       "   'name': \"Denny's\",\n",
       "   'coordinates': {'latitude': 34.0207864, 'longitude': -117.9586692},\n",
       "   'location': {'address1': '15553 Valley Blvd',\n",
       "    'address2': '',\n",
       "    'address3': '',\n",
       "    'city': 'La Puente',\n",
       "    'zip_code': '91744',\n",
       "    'country': 'US',\n",
       "    'state': 'CA',\n",
       "    'display_address': ['15553 Valley Blvd', 'La Puente, CA 91744']},\n",
       "   'phone': '+16269683930',\n",
       "   'display_phone': '(626) 968-3930'}]}"
      ]
     },
     "execution_count": 220,
     "metadata": {},
     "output_type": "execute_result"
    }
   ],
   "source": [
    "json_data_bm\n"
   ]
  },
  {
   "cell_type": "code",
   "execution_count": 219,
   "metadata": {},
   "outputs": [
    {
     "data": {
      "text/plain": [
       "[{'id': 'U8Gfec-186rQ93-3jbLdCQ',\n",
       "  'alias': 'dennys-la-puente',\n",
       "  'name': \"Denny's\",\n",
       "  'coordinates': {'latitude': 34.0207864, 'longitude': -117.9586692},\n",
       "  'location': {'address1': '15553 Valley Blvd',\n",
       "   'address2': '',\n",
       "   'address3': '',\n",
       "   'city': 'La Puente',\n",
       "   'zip_code': '91744',\n",
       "   'country': 'US',\n",
       "   'state': 'CA',\n",
       "   'display_address': ['15553 Valley Blvd', 'La Puente, CA 91744']},\n",
       "  'phone': '+16269683930',\n",
       "  'display_phone': '(626) 968-3930'}]"
      ]
     },
     "execution_count": 219,
     "metadata": {},
     "output_type": "execute_result"
    }
   ],
   "source": [
    "json_data_bm['businesses']"
   ]
  },
  {
   "cell_type": "code",
   "execution_count": 152,
   "metadata": {},
   "outputs": [],
   "source": [
    "# Extract Yelp ID and append yelp ID to addresses\n",
    "ans_bm = json_data_bm['businesses'][0]\n",
    "yelp_id = ans_bm.get('id')"
   ]
  },
  {
   "cell_type": "code",
   "execution_count": 153,
   "metadata": {},
   "outputs": [],
   "source": [
    "#Business Details Parameters to get rating, review count, price, categories, latitude, and longitude\n",
    "url_bd = 'https://api.yelp.com/v3/businesses/{}'.format(yelp_id)"
   ]
  },
  {
   "cell_type": "code",
   "execution_count": 154,
   "metadata": {},
   "outputs": [],
   "source": [
    "# Request from Yelp Business Details Endpoint\n",
    "r_bd = requests.get(url = url_bd, headers = headers)\n",
    "json_data_bd = r_bd.json()"
   ]
  },
  {
   "cell_type": "code",
   "execution_count": 191,
   "metadata": {},
   "outputs": [
    {
     "data": {
      "text/plain": [
       "True"
      ]
     },
     "execution_count": 191,
     "metadata": {},
     "output_type": "execute_result"
    }
   ],
   "source": [
    "json_data_bm['businesses'] == []\n"
   ]
  },
  {
   "cell_type": "code",
   "execution_count": 172,
   "metadata": {
    "scrolled": true
   },
   "outputs": [],
   "source": [
    "# Business Details Output\n",
    "answer = json_data_bd\n",
    "categories = [sub['title'] for sub in answer.get('categories')]\n",
    "output = {\n",
    "    'name': answer.get('name'),\n",
    "    'address': ', '.join([str(elem)for elem in answer.get('location').get('display_address')]),\n",
    "    'review_count': answer.get('review_count'),\n",
    "    'rating' : answer.get('rating'),\n",
    "    'price': answer.get('price'),\n",
    "    'categories': ', '.join([str(elem) for elem in [sub['title'] for sub in answer.get('categories')]]),\n",
    "    'latitude': answer.get('coordinates').get('latitude'),\n",
    "    'longitude': answer.get('coordinates').get('longitude'),\n",
    "    'yelp_id': answer.get('id'),\n",
    "    'hours': answer.get('hours')[0].get('hours_type')\n",
    "    \n",
    "}"
   ]
  },
  {
   "cell_type": "code",
   "execution_count": 173,
   "metadata": {},
   "outputs": [
    {
     "data": {
      "text/plain": [
       "{'name': \"Denny's\",\n",
       " 'address': '15553 Valley Blvd, La Puente, CA 91744',\n",
       " 'review_count': 92,\n",
       " 'rating': 2.5,\n",
       " 'price': '$',\n",
       " 'categories': 'Diners, Breakfast & Brunch, American (Traditional)',\n",
       " 'latitude': 34.0207864,\n",
       " 'longitude': -117.9586692,\n",
       " 'yelp_id': 'U8Gfec-186rQ93-3jbLdCQ',\n",
       " 'hours': 'REGULAR'}"
      ]
     },
     "execution_count": 173,
     "metadata": {},
     "output_type": "execute_result"
    }
   ],
   "source": [
    "output"
   ]
  },
  {
   "cell_type": "code",
   "execution_count": null,
   "metadata": {},
   "outputs": [],
   "source": []
  }
 ],
 "metadata": {
  "kernelspec": {
   "display_name": "Python 3",
   "language": "python",
   "name": "python3"
  },
  "language_info": {
   "codemirror_mode": {
    "name": "ipython",
    "version": 3
   },
   "file_extension": ".py",
   "mimetype": "text/x-python",
   "name": "python",
   "nbconvert_exporter": "python",
   "pygments_lexer": "ipython3",
   "version": "3.8.3"
  }
 },
 "nbformat": 4,
 "nbformat_minor": 4
}
